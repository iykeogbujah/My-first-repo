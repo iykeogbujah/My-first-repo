{
  "cells": [
    {
      "cell_type": "markdown",
      "metadata": {
        "id": "gDWTRfonxdnU"
      },
      "source": [
        "  ## OUTLINE\n",
        "  1. Load necessary packages\n",
        "  2. Load data\n",
        "  3. Data preprocessing\n",
        "  4. Model designing\n",
        "  5. Model modification"
      ]
    },
    {
      "cell_type": "code",
      "source": [
        "!pip install scikit-plot"
      ],
      "metadata": {
        "id": "BxPbH6O06MFt",
        "colab": {
          "base_uri": "https://localhost:8080/"
        },
        "outputId": "2d69f607-7e23-48c2-d80c-52d4250a71d2"
      },
      "execution_count": 1,
      "outputs": [
        {
          "output_type": "stream",
          "name": "stdout",
          "text": [
            "Looking in indexes: https://pypi.org/simple, https://us-python.pkg.dev/colab-wheels/public/simple/\n",
            "Collecting scikit-plot\n",
            "  Downloading scikit_plot-0.3.7-py3-none-any.whl (33 kB)\n",
            "Requirement already satisfied: scikit-learn>=0.18 in /usr/local/lib/python3.9/dist-packages (from scikit-plot) (1.2.2)\n",
            "Requirement already satisfied: scipy>=0.9 in /usr/local/lib/python3.9/dist-packages (from scikit-plot) (1.10.1)\n",
            "Requirement already satisfied: joblib>=0.10 in /usr/local/lib/python3.9/dist-packages (from scikit-plot) (1.2.0)\n",
            "Requirement already satisfied: matplotlib>=1.4.0 in /usr/local/lib/python3.9/dist-packages (from scikit-plot) (3.7.1)\n",
            "Requirement already satisfied: python-dateutil>=2.7 in /usr/local/lib/python3.9/dist-packages (from matplotlib>=1.4.0->scikit-plot) (2.8.2)\n",
            "Requirement already satisfied: kiwisolver>=1.0.1 in /usr/local/lib/python3.9/dist-packages (from matplotlib>=1.4.0->scikit-plot) (1.4.4)\n",
            "Requirement already satisfied: contourpy>=1.0.1 in /usr/local/lib/python3.9/dist-packages (from matplotlib>=1.4.0->scikit-plot) (1.0.7)\n",
            "Requirement already satisfied: numpy>=1.20 in /usr/local/lib/python3.9/dist-packages (from matplotlib>=1.4.0->scikit-plot) (1.22.4)\n",
            "Requirement already satisfied: packaging>=20.0 in /usr/local/lib/python3.9/dist-packages (from matplotlib>=1.4.0->scikit-plot) (23.0)\n",
            "Requirement already satisfied: pyparsing>=2.3.1 in /usr/local/lib/python3.9/dist-packages (from matplotlib>=1.4.0->scikit-plot) (3.0.9)\n",
            "Requirement already satisfied: pillow>=6.2.0 in /usr/local/lib/python3.9/dist-packages (from matplotlib>=1.4.0->scikit-plot) (8.4.0)\n",
            "Requirement already satisfied: fonttools>=4.22.0 in /usr/local/lib/python3.9/dist-packages (from matplotlib>=1.4.0->scikit-plot) (4.39.3)\n",
            "Requirement already satisfied: importlib-resources>=3.2.0 in /usr/local/lib/python3.9/dist-packages (from matplotlib>=1.4.0->scikit-plot) (5.12.0)\n",
            "Requirement already satisfied: cycler>=0.10 in /usr/local/lib/python3.9/dist-packages (from matplotlib>=1.4.0->scikit-plot) (0.11.0)\n",
            "Requirement already satisfied: threadpoolctl>=2.0.0 in /usr/local/lib/python3.9/dist-packages (from scikit-learn>=0.18->scikit-plot) (3.1.0)\n",
            "Requirement already satisfied: zipp>=3.1.0 in /usr/local/lib/python3.9/dist-packages (from importlib-resources>=3.2.0->matplotlib>=1.4.0->scikit-plot) (3.15.0)\n",
            "Requirement already satisfied: six>=1.5 in /usr/local/lib/python3.9/dist-packages (from python-dateutil>=2.7->matplotlib>=1.4.0->scikit-plot) (1.16.0)\n",
            "Installing collected packages: scikit-plot\n",
            "Successfully installed scikit-plot-0.3.7\n"
          ]
        }
      ]
    },
    {
      "cell_type": "code",
      "execution_count": 2,
      "metadata": {
        "id": "GQeT-JoGoY87",
        "colab": {
          "base_uri": "https://localhost:8080/"
        },
        "outputId": "af969200-246e-435e-d4e0-453e470adfe6"
      },
      "outputs": [
        {
          "output_type": "stream",
          "name": "stdout",
          "text": [
            "Looking in indexes: https://pypi.org/simple, https://us-python.pkg.dev/colab-wheels/public/simple/\n",
            "Requirement already satisfied: keras in /usr/local/lib/python3.9/dist-packages (2.12.0)\n"
          ]
        }
      ],
      "source": [
        "!pip install --upgrade keras\n",
        "import pandas as pd\n",
        "import numpy as np\n",
        "import scikitplot\n",
        "#import random\n",
        "#import seaborn as sns\n",
        "import keras\n",
        "import os\n",
        "from matplotlib import pyplot\n",
        "import matplotlib.pyplot as plt\n",
        "import tensorflow as tf\n",
        "from tensorflow.keras.utils import to_categorical\n",
        "import warnings\n",
        "from tensorflow.keras.models import Sequential\n",
        "#from keras.callbacks import EarlyStopping\n",
        "from keras import regularizers\n",
        "from keras.callbacks import ModelCheckpoint,EarlyStopping\n",
        "from tensorflow.keras.optimizers import Adam,RMSprop,SGD,Adamax\n",
        "from tensorflow.keras.preprocessing.image import load_img\n",
        "from keras.utils.vis_utils import plot_model\n",
        "from keras.layers import Conv2D, MaxPool2D, Flatten,Dense,Dropout,BatchNormalization,MaxPooling2D,Activation,Input\n",
        "from sklearn.model_selection import train_test_split\n",
        "from sklearn.preprocessing import StandardScaler\n",
        "warnings.simplefilter(\"ignore\")\n",
        "from keras.models import Model\n",
        "from sklearn.model_selection import train_test_split\n",
        "from sklearn.metrics import accuracy_score\n",
        "from keras.regularizers import l1, l2\n",
        "import plotly.express as px\n",
        "from matplotlib import pyplot as plt\n",
        "import math\n",
        "from sklearn.metrics import confusion_matrix\n",
        "from sklearn.metrics import classification_report\n",
        "from tensorflow.keras.models import Model"
      ]
    },
    {
      "cell_type": "code",
      "source": [
        "def pre_proc(data):\n",
        "  train_pixels = data[\"pixels\"]\n",
        "  train_pixels = train_pixels.str.split(\" \", expand = True)\n",
        "  pixels = np.array(train_pixels)\n",
        "  # train_pixels = np.float32(train_pixels)/255.\n",
        "  #pixels = train_pixels.reshape((train_pixels.shape[0], 48, 48,1))\n",
        "  return pixels \n",
        "  "
      ],
      "metadata": {
        "id": "oP6e-w0MbcKV"
      },
      "execution_count": 3,
      "outputs": []
    },
    {
      "cell_type": "code",
      "source": [
        "def train_model(model, X_train, y_train, X_val, y_val):\n",
        "    \n",
        "    lr_rate = tf.keras.optimizers.schedules.ExponentialDecay(\n",
        "      initial_learning_rate = 0.0001,\n",
        "      decay_steps = 10000,\n",
        "      decay_rate = 0.96)\n",
        "    \n",
        "    model.compile(optimizer=Adam(learning_rate= lr_rate), loss='categorical_crossentropy', metrics=['accuracy'])\n",
        "    \n",
        "    checkpointer = [EarlyStopping(monitor = 'val_accuracy', verbose = 1, restore_best_weights=True,mode=\"max\",patience = 10),\n",
        "     ModelCheckpoint('best_model.h5',monitor=\"val_accuracy\",verbose=1,\n",
        "        save_best_only=True,mode=\"max\")]\n",
        "    \n",
        "    \n",
        "    history = model.fit(X_train, y_train, batch_size=batch_size, epochs=epochs, \n",
        "                        validation_data=(X_val, y_val),callbacks = [checkpointer])\n",
        "    \n",
        "    loss, accuracy = model.evaluate(X_val, y_val)\n",
        "    print(\"Test loss: {:.4f}\".format(loss))\n",
        "    print(\"Test accuracy: {:.4f}\".format(accuracy))\n",
        "    \n",
        "    return history"
      ],
      "metadata": {
        "id": "t642hKRGwjAW"
      },
      "execution_count": 4,
      "outputs": []
    },
    {
      "cell_type": "code",
      "source": [
        "def train_model_aug(model,X_train, y_train, X_val, y_val):\n",
        "  \n",
        "  lr_rate = tf.keras.optimizers.schedules.ExponentialDecay(\n",
        "      initial_learning_rate = 0.0001,\n",
        "      decay_steps = 10000,\n",
        "      decay_rate = 0.96)\n",
        "    \n",
        "  model.compile(optimizer=Adam(learning_rate= lr_rate), loss='categorical_crossentropy', metrics=['accuracy'])\n",
        "    \n",
        "  checkpointer = [EarlyStopping(monitor = 'val_accuracy', verbose = 1, restore_best_weights=True,mode=\"max\",patience = 10),\n",
        "     ModelCheckpoint('best_model.h5',monitor=\"val_accuracy\",verbose=1,\n",
        "        save_best_only=True,mode=\"max\")]\n",
        "  \n",
        "  datagen.fit(X_train)\n",
        "  \n",
        "  history = model.fit(datagen.flow(X_train, y_train, batch_size=batch_size),\n",
        "    verbose = 1,steps_per_epoch = int(len(X_train) / batch_size),\n",
        "    epochs = epochs,validation_data = (X_val, y_val), callbacks = [checkpointer])\n",
        "  return history"
      ],
      "metadata": {
        "id": "nji_hB03byiZ"
      },
      "execution_count": 5,
      "outputs": []
    },
    {
      "cell_type": "markdown",
      "metadata": {
        "id": "B1l9DOOAp9JG"
      },
      "source": [
        "LOAD DATA"
      ]
    },
    {
      "cell_type": "code",
      "source": [
        "from google.colab import drive\n",
        "drive.mount('/content/drive',force_remount=True)"
      ],
      "metadata": {
        "colab": {
          "base_uri": "https://localhost:8080/"
        },
        "id": "DiZzqPU1uBUL",
        "outputId": "8adb7b51-2fe0-44d5-911b-51caaba39ebc"
      },
      "execution_count": 6,
      "outputs": [
        {
          "output_type": "stream",
          "name": "stdout",
          "text": [
            "Mounted at /content/drive\n"
          ]
        }
      ]
    },
    {
      "cell_type": "code",
      "source": [
        "data = pd.read_csv('/content/drive/MyDrive/Advanced ML/my_emotion_train.csv')"
      ],
      "metadata": {
        "id": "a0VJBVe3qbbX"
      },
      "execution_count": 7,
      "outputs": []
    },
    {
      "cell_type": "code",
      "source": [
        "data_test = pd.read_csv('/content/drive/MyDrive/Advanced ML/my_emotion_test.csv')\n"
      ],
      "metadata": {
        "id": "CxY1fNcGpiZe"
      },
      "execution_count": 8,
      "outputs": []
    },
    {
      "cell_type": "code",
      "execution_count": 9,
      "metadata": {
        "colab": {
          "base_uri": "https://localhost:8080/"
        },
        "id": "GkrVIguhvwIE",
        "outputId": "f791c534-3ad3-4e9c-cb34-e8d3430a7e21"
      },
      "outputs": [
        {
          "output_type": "execute_result",
          "data": {
            "text/plain": [
              "(29000, 3)"
            ]
          },
          "metadata": {},
          "execution_count": 9
        }
      ],
      "source": [
        "data.shape\n"
      ]
    },
    {
      "cell_type": "markdown",
      "metadata": {
        "id": "Slquteudv79p"
      },
      "source": [
        "check for missing data\n"
      ]
    },
    {
      "cell_type": "code",
      "execution_count": 10,
      "metadata": {
        "id": "xGp--tzP0d6Z",
        "colab": {
          "base_uri": "https://localhost:8080/"
        },
        "outputId": "2c443a00-19ae-4e82-f3d5-e562fe6eda0a"
      },
      "outputs": [
        {
          "output_type": "stream",
          "name": "stdout",
          "text": [
            "<class 'pandas.core.frame.DataFrame'>\n",
            "RangeIndex: 29000 entries, 0 to 28999\n",
            "Data columns (total 3 columns):\n",
            " #   Column   Non-Null Count  Dtype \n",
            "---  ------   --------------  ----- \n",
            " 0   id       29000 non-null  int64 \n",
            " 1   emotion  29000 non-null  int64 \n",
            " 2   pixels   29000 non-null  object\n",
            "dtypes: int64(2), object(1)\n",
            "memory usage: 679.8+ KB\n"
          ]
        }
      ],
      "source": [
        "data.info()"
      ]
    },
    {
      "cell_type": "code",
      "execution_count": 11,
      "metadata": {
        "id": "dC1Lzji4wGS4",
        "colab": {
          "base_uri": "https://localhost:8080/",
          "height": 206
        },
        "outputId": "2b5b949d-a5fe-419d-a823-78887c0e3857"
      },
      "outputs": [
        {
          "output_type": "execute_result",
          "data": {
            "text/plain": [
              "      id  emotion                                             pixels\n",
              "0   9415        6  29 16 18 18 18 20 19 18 17 17 17 18 17 18 17 1...\n",
              "1  19109        3  126 154 167 181 188 194 195 194 196 195 198 20...\n",
              "2  21523        2  169 220 218 208 184 144 72 73 143 183 203 210 ...\n",
              "3   2076        3  60 64 72 80 83 83 80 82 89 106 114 125 125 127...\n",
              "4  13957        3  174 148 121 97 78 70 62 57 54 54 42 58 40 64 1..."
            ],
            "text/html": [
              "\n",
              "  <div id=\"df-36b4aac2-ad36-4ad5-8ee2-ca5e2e9f6445\">\n",
              "    <div class=\"colab-df-container\">\n",
              "      <div>\n",
              "<style scoped>\n",
              "    .dataframe tbody tr th:only-of-type {\n",
              "        vertical-align: middle;\n",
              "    }\n",
              "\n",
              "    .dataframe tbody tr th {\n",
              "        vertical-align: top;\n",
              "    }\n",
              "\n",
              "    .dataframe thead th {\n",
              "        text-align: right;\n",
              "    }\n",
              "</style>\n",
              "<table border=\"1\" class=\"dataframe\">\n",
              "  <thead>\n",
              "    <tr style=\"text-align: right;\">\n",
              "      <th></th>\n",
              "      <th>id</th>\n",
              "      <th>emotion</th>\n",
              "      <th>pixels</th>\n",
              "    </tr>\n",
              "  </thead>\n",
              "  <tbody>\n",
              "    <tr>\n",
              "      <th>0</th>\n",
              "      <td>9415</td>\n",
              "      <td>6</td>\n",
              "      <td>29 16 18 18 18 20 19 18 17 17 17 18 17 18 17 1...</td>\n",
              "    </tr>\n",
              "    <tr>\n",
              "      <th>1</th>\n",
              "      <td>19109</td>\n",
              "      <td>3</td>\n",
              "      <td>126 154 167 181 188 194 195 194 196 195 198 20...</td>\n",
              "    </tr>\n",
              "    <tr>\n",
              "      <th>2</th>\n",
              "      <td>21523</td>\n",
              "      <td>2</td>\n",
              "      <td>169 220 218 208 184 144 72 73 143 183 203 210 ...</td>\n",
              "    </tr>\n",
              "    <tr>\n",
              "      <th>3</th>\n",
              "      <td>2076</td>\n",
              "      <td>3</td>\n",
              "      <td>60 64 72 80 83 83 80 82 89 106 114 125 125 127...</td>\n",
              "    </tr>\n",
              "    <tr>\n",
              "      <th>4</th>\n",
              "      <td>13957</td>\n",
              "      <td>3</td>\n",
              "      <td>174 148 121 97 78 70 62 57 54 54 42 58 40 64 1...</td>\n",
              "    </tr>\n",
              "  </tbody>\n",
              "</table>\n",
              "</div>\n",
              "      <button class=\"colab-df-convert\" onclick=\"convertToInteractive('df-36b4aac2-ad36-4ad5-8ee2-ca5e2e9f6445')\"\n",
              "              title=\"Convert this dataframe to an interactive table.\"\n",
              "              style=\"display:none;\">\n",
              "        \n",
              "  <svg xmlns=\"http://www.w3.org/2000/svg\" height=\"24px\"viewBox=\"0 0 24 24\"\n",
              "       width=\"24px\">\n",
              "    <path d=\"M0 0h24v24H0V0z\" fill=\"none\"/>\n",
              "    <path d=\"M18.56 5.44l.94 2.06.94-2.06 2.06-.94-2.06-.94-.94-2.06-.94 2.06-2.06.94zm-11 1L8.5 8.5l.94-2.06 2.06-.94-2.06-.94L8.5 2.5l-.94 2.06-2.06.94zm10 10l.94 2.06.94-2.06 2.06-.94-2.06-.94-.94-2.06-.94 2.06-2.06.94z\"/><path d=\"M17.41 7.96l-1.37-1.37c-.4-.4-.92-.59-1.43-.59-.52 0-1.04.2-1.43.59L10.3 9.45l-7.72 7.72c-.78.78-.78 2.05 0 2.83L4 21.41c.39.39.9.59 1.41.59.51 0 1.02-.2 1.41-.59l7.78-7.78 2.81-2.81c.8-.78.8-2.07 0-2.86zM5.41 20L4 18.59l7.72-7.72 1.47 1.35L5.41 20z\"/>\n",
              "  </svg>\n",
              "      </button>\n",
              "      \n",
              "  <style>\n",
              "    .colab-df-container {\n",
              "      display:flex;\n",
              "      flex-wrap:wrap;\n",
              "      gap: 12px;\n",
              "    }\n",
              "\n",
              "    .colab-df-convert {\n",
              "      background-color: #E8F0FE;\n",
              "      border: none;\n",
              "      border-radius: 50%;\n",
              "      cursor: pointer;\n",
              "      display: none;\n",
              "      fill: #1967D2;\n",
              "      height: 32px;\n",
              "      padding: 0 0 0 0;\n",
              "      width: 32px;\n",
              "    }\n",
              "\n",
              "    .colab-df-convert:hover {\n",
              "      background-color: #E2EBFA;\n",
              "      box-shadow: 0px 1px 2px rgba(60, 64, 67, 0.3), 0px 1px 3px 1px rgba(60, 64, 67, 0.15);\n",
              "      fill: #174EA6;\n",
              "    }\n",
              "\n",
              "    [theme=dark] .colab-df-convert {\n",
              "      background-color: #3B4455;\n",
              "      fill: #D2E3FC;\n",
              "    }\n",
              "\n",
              "    [theme=dark] .colab-df-convert:hover {\n",
              "      background-color: #434B5C;\n",
              "      box-shadow: 0px 1px 3px 1px rgba(0, 0, 0, 0.15);\n",
              "      filter: drop-shadow(0px 1px 2px rgba(0, 0, 0, 0.3));\n",
              "      fill: #FFFFFF;\n",
              "    }\n",
              "  </style>\n",
              "\n",
              "      <script>\n",
              "        const buttonEl =\n",
              "          document.querySelector('#df-36b4aac2-ad36-4ad5-8ee2-ca5e2e9f6445 button.colab-df-convert');\n",
              "        buttonEl.style.display =\n",
              "          google.colab.kernel.accessAllowed ? 'block' : 'none';\n",
              "\n",
              "        async function convertToInteractive(key) {\n",
              "          const element = document.querySelector('#df-36b4aac2-ad36-4ad5-8ee2-ca5e2e9f6445');\n",
              "          const dataTable =\n",
              "            await google.colab.kernel.invokeFunction('convertToInteractive',\n",
              "                                                     [key], {});\n",
              "          if (!dataTable) return;\n",
              "\n",
              "          const docLinkHtml = 'Like what you see? Visit the ' +\n",
              "            '<a target=\"_blank\" href=https://colab.research.google.com/notebooks/data_table.ipynb>data table notebook</a>'\n",
              "            + ' to learn more about interactive tables.';\n",
              "          element.innerHTML = '';\n",
              "          dataTable['output_type'] = 'display_data';\n",
              "          await google.colab.output.renderOutput(dataTable, element);\n",
              "          const docLink = document.createElement('div');\n",
              "          docLink.innerHTML = docLinkHtml;\n",
              "          element.appendChild(docLink);\n",
              "        }\n",
              "      </script>\n",
              "    </div>\n",
              "  </div>\n",
              "  "
            ]
          },
          "metadata": {},
          "execution_count": 11
        }
      ],
      "source": [
        "data.head()"
      ]
    },
    {
      "cell_type": "markdown",
      "metadata": {
        "id": "4NYfP1ckxLkf"
      },
      "source": [
        "PREPROCESSING"
      ]
    },
    {
      "cell_type": "markdown",
      "metadata": {
        "id": "VAUccGrlqrqk"
      },
      "source": [
        "#1. Asign label to the emotion\n",
        "\n",
        "This is to make is easier to identify and relate with each emotion"
      ]
    },
    {
      "cell_type": "code",
      "execution_count": 12,
      "metadata": {
        "id": "LNsvpNwyw40M",
        "colab": {
          "base_uri": "https://localhost:8080/",
          "height": 542
        },
        "outputId": "aaab7f12-8621-4ae7-bed5-69f542b69292"
      },
      "outputs": [
        {
          "output_type": "display_data",
          "data": {
            "text/html": [
              "<html>\n",
              "<head><meta charset=\"utf-8\" /></head>\n",
              "<body>\n",
              "    <div>            <script src=\"https://cdnjs.cloudflare.com/ajax/libs/mathjax/2.7.5/MathJax.js?config=TeX-AMS-MML_SVG\"></script><script type=\"text/javascript\">if (window.MathJax && window.MathJax.Hub && window.MathJax.Hub.Config) {window.MathJax.Hub.Config({SVG: {font: \"STIX-Web\"}});}</script>                <script type=\"text/javascript\">window.PlotlyConfig = {MathJaxConfig: 'local'};</script>\n",
              "        <script src=\"https://cdn.plot.ly/plotly-2.18.2.min.js\"></script>                <div id=\"f0f0a46b-366f-49ca-bf65-5821f99c0344\" class=\"plotly-graph-div\" style=\"height:525px; width:100%;\"></div>            <script type=\"text/javascript\">                                    window.PLOTLYENV=window.PLOTLYENV || {};                                    if (document.getElementById(\"f0f0a46b-366f-49ca-bf65-5821f99c0344\")) {                    Plotly.newPlot(                        \"f0f0a46b-366f-49ca-bf65-5821f99c0344\",                        [{\"alignmentgroup\":\"True\",\"hovertemplate\":\"x=%{x}<br>y=%{y}<br>color=%{marker.color}<extra></extra>\",\"legendgroup\":\"\",\"marker\":{\"color\":[0,1,2,3,4,5,6],\"coloraxis\":\"coloraxis\",\"pattern\":{\"shape\":\"\"}},\"name\":\"\",\"offsetgroup\":\"\",\"orientation\":\"v\",\"showlegend\":false,\"textposition\":\"auto\",\"x\":[\"Anger\",\"Disgust\",\"Fear\",\"Happy\",\"Neutral\",\"Sadness\",\"Surprise\"],\"xaxis\":\"x\",\"y\":[3993,440,4138,7289,4942,3206,4992],\"yaxis\":\"y\",\"type\":\"bar\"}],                        {\"template\":{\"data\":{\"histogram2dcontour\":[{\"type\":\"histogram2dcontour\",\"colorbar\":{\"outlinewidth\":0,\"ticks\":\"\"},\"colorscale\":[[0.0,\"#0d0887\"],[0.1111111111111111,\"#46039f\"],[0.2222222222222222,\"#7201a8\"],[0.3333333333333333,\"#9c179e\"],[0.4444444444444444,\"#bd3786\"],[0.5555555555555556,\"#d8576b\"],[0.6666666666666666,\"#ed7953\"],[0.7777777777777778,\"#fb9f3a\"],[0.8888888888888888,\"#fdca26\"],[1.0,\"#f0f921\"]]}],\"choropleth\":[{\"type\":\"choropleth\",\"colorbar\":{\"outlinewidth\":0,\"ticks\":\"\"}}],\"histogram2d\":[{\"type\":\"histogram2d\",\"colorbar\":{\"outlinewidth\":0,\"ticks\":\"\"},\"colorscale\":[[0.0,\"#0d0887\"],[0.1111111111111111,\"#46039f\"],[0.2222222222222222,\"#7201a8\"],[0.3333333333333333,\"#9c179e\"],[0.4444444444444444,\"#bd3786\"],[0.5555555555555556,\"#d8576b\"],[0.6666666666666666,\"#ed7953\"],[0.7777777777777778,\"#fb9f3a\"],[0.8888888888888888,\"#fdca26\"],[1.0,\"#f0f921\"]]}],\"heatmap\":[{\"type\":\"heatmap\",\"colorbar\":{\"outlinewidth\":0,\"ticks\":\"\"},\"colorscale\":[[0.0,\"#0d0887\"],[0.1111111111111111,\"#46039f\"],[0.2222222222222222,\"#7201a8\"],[0.3333333333333333,\"#9c179e\"],[0.4444444444444444,\"#bd3786\"],[0.5555555555555556,\"#d8576b\"],[0.6666666666666666,\"#ed7953\"],[0.7777777777777778,\"#fb9f3a\"],[0.8888888888888888,\"#fdca26\"],[1.0,\"#f0f921\"]]}],\"heatmapgl\":[{\"type\":\"heatmapgl\",\"colorbar\":{\"outlinewidth\":0,\"ticks\":\"\"},\"colorscale\":[[0.0,\"#0d0887\"],[0.1111111111111111,\"#46039f\"],[0.2222222222222222,\"#7201a8\"],[0.3333333333333333,\"#9c179e\"],[0.4444444444444444,\"#bd3786\"],[0.5555555555555556,\"#d8576b\"],[0.6666666666666666,\"#ed7953\"],[0.7777777777777778,\"#fb9f3a\"],[0.8888888888888888,\"#fdca26\"],[1.0,\"#f0f921\"]]}],\"contourcarpet\":[{\"type\":\"contourcarpet\",\"colorbar\":{\"outlinewidth\":0,\"ticks\":\"\"}}],\"contour\":[{\"type\":\"contour\",\"colorbar\":{\"outlinewidth\":0,\"ticks\":\"\"},\"colorscale\":[[0.0,\"#0d0887\"],[0.1111111111111111,\"#46039f\"],[0.2222222222222222,\"#7201a8\"],[0.3333333333333333,\"#9c179e\"],[0.4444444444444444,\"#bd3786\"],[0.5555555555555556,\"#d8576b\"],[0.6666666666666666,\"#ed7953\"],[0.7777777777777778,\"#fb9f3a\"],[0.8888888888888888,\"#fdca26\"],[1.0,\"#f0f921\"]]}],\"surface\":[{\"type\":\"surface\",\"colorbar\":{\"outlinewidth\":0,\"ticks\":\"\"},\"colorscale\":[[0.0,\"#0d0887\"],[0.1111111111111111,\"#46039f\"],[0.2222222222222222,\"#7201a8\"],[0.3333333333333333,\"#9c179e\"],[0.4444444444444444,\"#bd3786\"],[0.5555555555555556,\"#d8576b\"],[0.6666666666666666,\"#ed7953\"],[0.7777777777777778,\"#fb9f3a\"],[0.8888888888888888,\"#fdca26\"],[1.0,\"#f0f921\"]]}],\"mesh3d\":[{\"type\":\"mesh3d\",\"colorbar\":{\"outlinewidth\":0,\"ticks\":\"\"}}],\"scatter\":[{\"fillpattern\":{\"fillmode\":\"overlay\",\"size\":10,\"solidity\":0.2},\"type\":\"scatter\"}],\"parcoords\":[{\"type\":\"parcoords\",\"line\":{\"colorbar\":{\"outlinewidth\":0,\"ticks\":\"\"}}}],\"scatterpolargl\":[{\"type\":\"scatterpolargl\",\"marker\":{\"colorbar\":{\"outlinewidth\":0,\"ticks\":\"\"}}}],\"bar\":[{\"error_x\":{\"color\":\"#2a3f5f\"},\"error_y\":{\"color\":\"#2a3f5f\"},\"marker\":{\"line\":{\"color\":\"#E5ECF6\",\"width\":0.5},\"pattern\":{\"fillmode\":\"overlay\",\"size\":10,\"solidity\":0.2}},\"type\":\"bar\"}],\"scattergeo\":[{\"type\":\"scattergeo\",\"marker\":{\"colorbar\":{\"outlinewidth\":0,\"ticks\":\"\"}}}],\"scatterpolar\":[{\"type\":\"scatterpolar\",\"marker\":{\"colorbar\":{\"outlinewidth\":0,\"ticks\":\"\"}}}],\"histogram\":[{\"marker\":{\"pattern\":{\"fillmode\":\"overlay\",\"size\":10,\"solidity\":0.2}},\"type\":\"histogram\"}],\"scattergl\":[{\"type\":\"scattergl\",\"marker\":{\"colorbar\":{\"outlinewidth\":0,\"ticks\":\"\"}}}],\"scatter3d\":[{\"type\":\"scatter3d\",\"line\":{\"colorbar\":{\"outlinewidth\":0,\"ticks\":\"\"}},\"marker\":{\"colorbar\":{\"outlinewidth\":0,\"ticks\":\"\"}}}],\"scattermapbox\":[{\"type\":\"scattermapbox\",\"marker\":{\"colorbar\":{\"outlinewidth\":0,\"ticks\":\"\"}}}],\"scatterternary\":[{\"type\":\"scatterternary\",\"marker\":{\"colorbar\":{\"outlinewidth\":0,\"ticks\":\"\"}}}],\"scattercarpet\":[{\"type\":\"scattercarpet\",\"marker\":{\"colorbar\":{\"outlinewidth\":0,\"ticks\":\"\"}}}],\"carpet\":[{\"aaxis\":{\"endlinecolor\":\"#2a3f5f\",\"gridcolor\":\"white\",\"linecolor\":\"white\",\"minorgridcolor\":\"white\",\"startlinecolor\":\"#2a3f5f\"},\"baxis\":{\"endlinecolor\":\"#2a3f5f\",\"gridcolor\":\"white\",\"linecolor\":\"white\",\"minorgridcolor\":\"white\",\"startlinecolor\":\"#2a3f5f\"},\"type\":\"carpet\"}],\"table\":[{\"cells\":{\"fill\":{\"color\":\"#EBF0F8\"},\"line\":{\"color\":\"white\"}},\"header\":{\"fill\":{\"color\":\"#C8D4E3\"},\"line\":{\"color\":\"white\"}},\"type\":\"table\"}],\"barpolar\":[{\"marker\":{\"line\":{\"color\":\"#E5ECF6\",\"width\":0.5},\"pattern\":{\"fillmode\":\"overlay\",\"size\":10,\"solidity\":0.2}},\"type\":\"barpolar\"}],\"pie\":[{\"automargin\":true,\"type\":\"pie\"}]},\"layout\":{\"autotypenumbers\":\"strict\",\"colorway\":[\"#636efa\",\"#EF553B\",\"#00cc96\",\"#ab63fa\",\"#FFA15A\",\"#19d3f3\",\"#FF6692\",\"#B6E880\",\"#FF97FF\",\"#FECB52\"],\"font\":{\"color\":\"#2a3f5f\"},\"hovermode\":\"closest\",\"hoverlabel\":{\"align\":\"left\"},\"paper_bgcolor\":\"white\",\"plot_bgcolor\":\"#E5ECF6\",\"polar\":{\"bgcolor\":\"#E5ECF6\",\"angularaxis\":{\"gridcolor\":\"white\",\"linecolor\":\"white\",\"ticks\":\"\"},\"radialaxis\":{\"gridcolor\":\"white\",\"linecolor\":\"white\",\"ticks\":\"\"}},\"ternary\":{\"bgcolor\":\"#E5ECF6\",\"aaxis\":{\"gridcolor\":\"white\",\"linecolor\":\"white\",\"ticks\":\"\"},\"baxis\":{\"gridcolor\":\"white\",\"linecolor\":\"white\",\"ticks\":\"\"},\"caxis\":{\"gridcolor\":\"white\",\"linecolor\":\"white\",\"ticks\":\"\"}},\"coloraxis\":{\"colorbar\":{\"outlinewidth\":0,\"ticks\":\"\"}},\"colorscale\":{\"sequential\":[[0.0,\"#0d0887\"],[0.1111111111111111,\"#46039f\"],[0.2222222222222222,\"#7201a8\"],[0.3333333333333333,\"#9c179e\"],[0.4444444444444444,\"#bd3786\"],[0.5555555555555556,\"#d8576b\"],[0.6666666666666666,\"#ed7953\"],[0.7777777777777778,\"#fb9f3a\"],[0.8888888888888888,\"#fdca26\"],[1.0,\"#f0f921\"]],\"sequentialminus\":[[0.0,\"#0d0887\"],[0.1111111111111111,\"#46039f\"],[0.2222222222222222,\"#7201a8\"],[0.3333333333333333,\"#9c179e\"],[0.4444444444444444,\"#bd3786\"],[0.5555555555555556,\"#d8576b\"],[0.6666666666666666,\"#ed7953\"],[0.7777777777777778,\"#fb9f3a\"],[0.8888888888888888,\"#fdca26\"],[1.0,\"#f0f921\"]],\"diverging\":[[0,\"#8e0152\"],[0.1,\"#c51b7d\"],[0.2,\"#de77ae\"],[0.3,\"#f1b6da\"],[0.4,\"#fde0ef\"],[0.5,\"#f7f7f7\"],[0.6,\"#e6f5d0\"],[0.7,\"#b8e186\"],[0.8,\"#7fbc41\"],[0.9,\"#4d9221\"],[1,\"#276419\"]]},\"xaxis\":{\"gridcolor\":\"white\",\"linecolor\":\"white\",\"ticks\":\"\",\"title\":{\"standoff\":15},\"zerolinecolor\":\"white\",\"automargin\":true,\"zerolinewidth\":2},\"yaxis\":{\"gridcolor\":\"white\",\"linecolor\":\"white\",\"ticks\":\"\",\"title\":{\"standoff\":15},\"zerolinecolor\":\"white\",\"automargin\":true,\"zerolinewidth\":2},\"scene\":{\"xaxis\":{\"backgroundcolor\":\"#E5ECF6\",\"gridcolor\":\"white\",\"linecolor\":\"white\",\"showbackground\":true,\"ticks\":\"\",\"zerolinecolor\":\"white\",\"gridwidth\":2},\"yaxis\":{\"backgroundcolor\":\"#E5ECF6\",\"gridcolor\":\"white\",\"linecolor\":\"white\",\"showbackground\":true,\"ticks\":\"\",\"zerolinecolor\":\"white\",\"gridwidth\":2},\"zaxis\":{\"backgroundcolor\":\"#E5ECF6\",\"gridcolor\":\"white\",\"linecolor\":\"white\",\"showbackground\":true,\"ticks\":\"\",\"zerolinecolor\":\"white\",\"gridwidth\":2}},\"shapedefaults\":{\"line\":{\"color\":\"#2a3f5f\"}},\"annotationdefaults\":{\"arrowcolor\":\"#2a3f5f\",\"arrowhead\":0,\"arrowwidth\":1},\"geo\":{\"bgcolor\":\"white\",\"landcolor\":\"#E5ECF6\",\"subunitcolor\":\"white\",\"showland\":true,\"showlakes\":true,\"lakecolor\":\"white\"},\"title\":{\"x\":0.05},\"mapbox\":{\"style\":\"light\"}}},\"xaxis\":{\"anchor\":\"y\",\"domain\":[0.0,1.0],\"title\":{\"text\":\"Emotions\"}},\"yaxis\":{\"anchor\":\"x\",\"domain\":[0.0,1.0],\"title\":{\"text\":\"Total Images\"}},\"coloraxis\":{\"colorbar\":{\"title\":{\"text\":\"color\"}},\"colorscale\":[[0.0,\"rgb(247,251,255)\"],[0.125,\"rgb(222,235,247)\"],[0.25,\"rgb(198,219,239)\"],[0.375,\"rgb(158,202,225)\"],[0.5,\"rgb(107,174,214)\"],[0.625,\"rgb(66,146,198)\"],[0.75,\"rgb(33,113,181)\"],[0.875,\"rgb(8,81,156)\"],[1.0,\"rgb(8,48,107)\"]]},\"legend\":{\"tracegroupgap\":0},\"margin\":{\"t\":60},\"barmode\":\"relative\",\"title\":{\"text\":\"Emotion Distribution on Train  Data \",\"y\":0.95,\"x\":0.5,\"xanchor\":\"center\",\"yanchor\":\"top\"},\"showlegend\":true},                        {\"responsive\": true}                    ).then(function(){\n",
              "                            \n",
              "var gd = document.getElementById('f0f0a46b-366f-49ca-bf65-5821f99c0344');\n",
              "var x = new MutationObserver(function (mutations, observer) {{\n",
              "        var display = window.getComputedStyle(gd).display;\n",
              "        if (!display || display === 'none') {{\n",
              "            console.log([gd, 'removed!']);\n",
              "            Plotly.purge(gd);\n",
              "            observer.disconnect();\n",
              "        }}\n",
              "}});\n",
              "\n",
              "// Listen for the removal of the full notebook cells\n",
              "var notebookContainer = gd.closest('#notebook-container');\n",
              "if (notebookContainer) {{\n",
              "    x.observe(notebookContainer, {childList: true});\n",
              "}}\n",
              "\n",
              "// Listen for the clearing of the current output cell\n",
              "var outputEl = gd.closest('.output');\n",
              "if (outputEl) {{\n",
              "    x.observe(outputEl, {childList: true});\n",
              "}}\n",
              "\n",
              "                        })                };                            </script>        </div>\n",
              "</body>\n",
              "</html>"
            ]
          },
          "metadata": {}
        }
      ],
      "source": [
        "EMOTION_LABELS  = ['Anger', 'Disgust', 'Fear', 'Happy', 'Neutral', 'Sadness', \"Surprise\"]\n",
        "fig = px.bar(x = EMOTION_LABELS,\n",
        "             y = [list(data['emotion']).count(i) for i in np.unique(data['emotion'])] , \n",
        "             color = np.unique(data['emotion']) ,\n",
        "             color_continuous_scale=\"blues\") \n",
        "fig.update_xaxes(title=\"Emotions\")\n",
        "fig.update_yaxes(title = \"Total Images\")\n",
        "fig.update_layout(showlegend = True,\n",
        "    title = {\n",
        "        'text': 'Emotion Distribution on Train  Data ',\n",
        "        'y':0.95,\n",
        "        'x':0.5,\n",
        "        'xanchor': 'center',\n",
        "        'yanchor': 'top'})\n",
        "fig.show()"
      ]
    },
    {
      "cell_type": "markdown",
      "metadata": {
        "id": "kwo1ND-1yggS"
      },
      "source": [
        "## 2. Shuffling the data\n",
        "\n",
        "In order to minimise variance and ensure that the model generalise well to  unseen data points, the  data is being shuffled using sample() function and fraction was specified as 1 to shuffle the data by changing the rows."
      ]
    },
    {
      "cell_type": "code",
      "execution_count": 13,
      "metadata": {
        "id": "La6fnoPZyoex"
      },
      "outputs": [],
      "source": [
        "data = data.sample(frac=1)"
      ]
    },
    {
      "cell_type": "code",
      "source": [
        "pixels = pre_proc(data)"
      ],
      "metadata": {
        "id": "JO7pvRRPrRVY"
      },
      "execution_count": 14,
      "outputs": []
    },
    {
      "cell_type": "code",
      "source": [
        "scaler= StandardScaler()\n",
        "pixels=scaler.fit_transform(pixels)"
      ],
      "metadata": {
        "id": "mWStADWltIX0"
      },
      "execution_count": 15,
      "outputs": []
    },
    {
      "cell_type": "code",
      "source": [
        "X_train, X_val, y_train, y_val = train_test_split(pixels,data.emotion, test_size=0.2, shuffle=False)\n",
        "y_train,y_val = to_categorical(y_train),to_categorical(y_val)"
      ],
      "metadata": {
        "id": "aVx-x8eDdspE"
      },
      "execution_count": 16,
      "outputs": []
    },
    {
      "cell_type": "code",
      "source": [
        " from keras.preprocessing.image import ImageDataGenerator"
      ],
      "metadata": {
        "id": "5asYIdZ65XPA"
      },
      "execution_count": 17,
      "outputs": []
    },
    {
      "cell_type": "code",
      "source": [
        "datagen = ImageDataGenerator(\n",
        "featurewise_center=True,\n",
        "featurewise_std_normalization=True,\n",
        "rotation_range=20,\n",
        "width_shift_range=0.2,\n",
        "height_shift_range=0.2,\n",
        "horizontal_flip=True,\n",
        "validation_split=0.2)"
      ],
      "metadata": {
        "id": "GGWvdDav4zW3"
      },
      "execution_count": 18,
      "outputs": []
    },
    {
      "cell_type": "code",
      "source": [
        "regularizer = tf.keras.regularizers.L1L2(l1=0.01,l2=0.01)\n",
        "batch_size,epochs = 32,100"
      ],
      "metadata": {
        "id": "4-TiCp7r-EwL"
      },
      "execution_count": 19,
      "outputs": []
    },
    {
      "cell_type": "code",
      "source": [
        "X_train,X_val= X_train.reshape((X_train.shape[0], 48, 48,1)),X_val.reshape((X_val.shape[0], 48, 48,1))"
      ],
      "metadata": {
        "id": "PnLcOcRYAZnQ"
      },
      "execution_count": 20,
      "outputs": []
    },
    {
      "cell_type": "markdown",
      "source": [
        "# Baseline ML model"
      ],
      "metadata": {
        "id": "Xshde34qotUQ"
      }
    },
    {
      "cell_type": "code",
      "source": [
        "model_baseline = keras.models.Sequential([\n",
        "        keras.layers.Flatten(input_shape=(48, 48,1)),\n",
        "        keras.layers.Dense(300, activation=\"relu\"),\n",
        "        keras.layers.Dense(7, activation=\"softmax\")\n",
        "])"
      ],
      "metadata": {
        "id": "OOnYGqKzodbU"
      },
      "execution_count": 21,
      "outputs": []
    },
    {
      "cell_type": "markdown",
      "source": [
        "Without Augumented data"
      ],
      "metadata": {
        "id": "6gNPraWhNUI6"
      }
    },
    {
      "cell_type": "code",
      "source": [
        "base_model = train_model(model_baseline,X_train, y_train, X_val, y_val)\n"
      ],
      "metadata": {
        "id": "2kRaBMa1HSNW"
      },
      "execution_count": null,
      "outputs": []
    },
    {
      "cell_type": "markdown",
      "source": [
        "With Augumented data"
      ],
      "metadata": {
        "id": "Iz17mGnINys-"
      }
    },
    {
      "cell_type": "code",
      "source": [
        "base_model_aug = train_model_aug(model_baseline,X_train, y_train, X_val, y_val)"
      ],
      "metadata": {
        "id": "hWuOOqHsF30m"
      },
      "execution_count": null,
      "outputs": []
    },
    {
      "cell_type": "markdown",
      "metadata": {
        "id": "ftMZY2LZVCRd"
      },
      "source": [
        "##CNN model\n",
        "\n",
        "CNN model has many layers with different units such as Convolutional layer, Max pooling layer, Batch normalization and Drop out layer to regularize the model.\n",
        "\n",
        "\n"
      ]
    },
    {
      "cell_type": "code",
      "execution_count": 24,
      "metadata": {
        "id": "sJ3r7RMTePBO"
      },
      "outputs": [],
      "source": [
        "model_cnn = tf.keras.models.Sequential()\n",
        "model_cnn.add(Conv2D(32, kernel_size=(3, 3), padding='same', activation='relu', input_shape=(48, 48,1)))\n",
        "model_cnn.add(Conv2D(64,(3,3), padding='same', activation='relu' ))\n",
        "model_cnn.add(BatchNormalization())\n",
        "model_cnn.add(MaxPool2D(pool_size=(2, 2)))\n",
        "model_cnn.add(Dropout(0.25))\n",
        "\n",
        "model_cnn.add(Conv2D(128,(5,5), padding='same', activation='relu'))\n",
        "model_cnn.add(BatchNormalization())\n",
        "model_cnn.add(MaxPool2D(pool_size=(2, 2)))\n",
        "model_cnn.add(Dropout(0.25))\n",
        "    \n",
        "model_cnn.add(Conv2D(512,(3,3), padding='same', activation='relu', kernel_regularizer=regularizer))\n",
        "model_cnn.add(BatchNormalization())\n",
        "model_cnn.add(MaxPool2D(pool_size=(2, 2)))\n",
        "model_cnn.add(Dropout(0.25))\n",
        "model_cnn.add(Conv2D(512,(3,3), padding='same', activation='relu', kernel_regularizer=regularizer))\n",
        "model_cnn.add(BatchNormalization())\n",
        "model_cnn.add(MaxPool2D(pool_size=(2, 2)))\n",
        "model_cnn.add(Dropout(0.25))\n",
        "\n",
        "model_cnn.add(Conv2D(512,(3,3), padding='same', activation='relu', kernel_regularizer=regularizer))\n",
        "model_cnn.add(BatchNormalization())\n",
        "model_cnn.add(MaxPool2D(pool_size=(2, 2)))\n",
        "model_cnn.add(Dropout(0.25))\n",
        "\n",
        "model_cnn.add(Flatten()) \n",
        "model_cnn.add(Dense(256,activation = 'relu'))\n",
        "model_cnn.add(BatchNormalization())\n",
        "model_cnn.add(Dropout(0.25))\n",
        "    \n",
        "model_cnn.add(Dense(512,activation = 'relu'))\n",
        "model_cnn.add(BatchNormalization())\n",
        "model_cnn.add(Dropout(0.25))\n",
        "\n",
        "model_cnn.add(Dense(7, activation='softmax'))"
      ]
    },
    {
      "cell_type": "markdown",
      "source": [
        "Without Augumentation"
      ],
      "metadata": {
        "id": "Mf9MjOEaQeXO"
      }
    },
    {
      "cell_type": "code",
      "source": [
        "cnn_model = train_model(model_cnn, X_train, y_train, X_val, y_val)"
      ],
      "metadata": {
        "id": "CBMs3R_M2gNQ"
      },
      "execution_count": null,
      "outputs": []
    },
    {
      "cell_type": "markdown",
      "source": [
        "With Augumentation"
      ],
      "metadata": {
        "id": "g-F61AQZQz-r"
      }
    },
    {
      "cell_type": "code",
      "source": [
        "cnn_model_aug = train_model_aug(model_cnn, X_train, y_train, X_val, y_val)"
      ],
      "metadata": {
        "id": "zrMvOdJWzs7t"
      },
      "execution_count": null,
      "outputs": []
    },
    {
      "cell_type": "markdown",
      "source": [
        "# ANN Model"
      ],
      "metadata": {
        "id": "wJfybIyTA7X_"
      }
    },
    {
      "cell_type": "code",
      "source": [
        "model_ann = keras.models.Sequential([\n",
        "        keras.layers.Flatten(input_shape=(48,48,1)),\n",
        "        keras.layers.BatchNormalization(),\n",
        "        keras.layers.Dense(300, activation=\"relu\", kernel_initializer=\"glorot_normal\",kernel_regularizer=regularizer),\n",
        "        keras.layers.Dense(300, activation=\"relu\", kernel_initializer=\"glorot_normal\"),\n",
        "        keras.layers.Dense(100, activation=\"relu\", kernel_initializer=\"glorot_normal\",kernel_regularizer=regularizer),\n",
        "        keras.layers.Dropout(0.2),\n",
        "        keras.layers.Dense(30, activation=\"relu\", kernel_initializer=\"glorot_normal\"),\n",
        "        keras.layers.Dropout(0.2),\n",
        "        keras.layers.Dense(7, activation=\"softmax\")\n",
        "])"
      ],
      "metadata": {
        "id": "nxjG_OIZyqWq"
      },
      "execution_count": 27,
      "outputs": []
    },
    {
      "cell_type": "markdown",
      "source": [
        "Without Augumentation"
      ],
      "metadata": {
        "id": "Rg0gszyPTtXJ"
      }
    },
    {
      "cell_type": "code",
      "source": [
        "ann_model = train_model(model_ann, X_train, y_train, X_val, y_val)"
      ],
      "metadata": {
        "id": "0ueTlykJNL41"
      },
      "execution_count": null,
      "outputs": []
    },
    {
      "cell_type": "markdown",
      "source": [
        "With Augumentation"
      ],
      "metadata": {
        "id": "SgyE2YljT2lv"
      }
    },
    {
      "cell_type": "code",
      "source": [
        "ann_model_aug = train_model_aug(model_ann, X_train, y_train, X_val, y_val)"
      ],
      "metadata": {
        "id": "kPbbN70TT85D"
      },
      "execution_count": null,
      "outputs": []
    },
    {
      "cell_type": "code",
      "source": [],
      "metadata": {
        "id": "Dr0h1nhXT8Y8"
      },
      "execution_count": 29,
      "outputs": []
    },
    {
      "cell_type": "markdown",
      "source": [
        "RESTNET "
      ],
      "metadata": {
        "id": "hRidNtwLiqfF"
      }
    },
    {
      "cell_type": "code",
      "source": [],
      "metadata": {
        "id": "XlUjwsBcihyX"
      },
      "execution_count": 29,
      "outputs": []
    },
    {
      "cell_type": "code",
      "source": [
        "class ResidualUnit(keras.layers.Layer):\n",
        "  def __init__(self, filters, strides=1, activation=\"relu\", **kwargs):\n",
        "    super().__init__(**kwargs)\n",
        "    self.activation = keras.activations.get(activation)\n",
        "    self.main_layers = [\n",
        "      keras.layers.Conv2D(filters, 3, strides=strides, padding=\"same\", use_bias=False),\n",
        "      keras.layers.BatchNormalization(), \n",
        "      self.activation, \n",
        "      keras.layers.Conv2D(filters, 3, strides=1, padding=\"same\", use_bias=False), \n",
        "      keras.layers.BatchNormalization()\n",
        "    ]\n",
        "\n",
        "    self.skip_layers = [\n",
        "      keras.layers.Conv2D(filters, 1, strides=strides, padding=\"same\", use_bias=False), \n",
        "      keras.layers.BatchNormalization()\n",
        "    ]\n",
        "\n",
        "  def call(self, inputs): \n",
        "    Z = inputs\n",
        "    for layer in self.main_layers: \n",
        "      Z = layer(Z)\n",
        "    skip_Z = inputs\n",
        "    for layer in self.skip_layers:\n",
        "      skip_Z = layer(skip_Z)\n",
        "    return self.activation(Z + skip_Z)"
      ],
      "metadata": {
        "id": "g9Mb001kz3BR"
      },
      "execution_count": 30,
      "outputs": []
    },
    {
      "cell_type": "code",
      "source": [
        "from keras.layers import Conv2D\n",
        "model_rest = keras.models.Sequential()\n",
        "model_rest.add(keras.layers.Conv2D(64, 7, strides=1, input_shape=[48, 48, 1], padding=\"same\", use_bias=False)) \n",
        "model_rest.add(keras.layers.BatchNormalization())\n",
        "model_rest.add(keras.layers.Activation(\"relu\")) \n",
        "model_rest.add(keras.layers.MaxPool2D(pool_size=3, strides=2, padding=\"same\")) \n",
        "prev_filters = 64 \n",
        "for filters in [64]*3+[128]*4+[256]*6+[512]*3:\n",
        "  strides = 1 if filters == prev_filters else 2 \n",
        "  model_rest.add(ResidualUnit(filters, strides=strides)) \n",
        "  prev_filters = filters\n",
        "model_rest.add(keras.layers.GlobalAvgPool2D()) \n",
        "model_rest.add(keras.layers.Flatten()) \n",
        "model_rest.add(keras.layers.Dense(7, activation=\"softmax\"))\n",
        "model_rest.summary()"
      ],
      "metadata": {
        "id": "8wjJ6hnAz5G0"
      },
      "execution_count": null,
      "outputs": []
    },
    {
      "cell_type": "markdown",
      "source": [
        "### Without Augumentation"
      ],
      "metadata": {
        "id": "Wzvjo2WYU7Ez"
      }
    },
    {
      "cell_type": "code",
      "source": [
        "resnet_model = train_model(model_rest, X_train, y_train, X_val, y_val)"
      ],
      "metadata": {
        "id": "9Iiae1pYY1aI"
      },
      "execution_count": null,
      "outputs": []
    },
    {
      "cell_type": "markdown",
      "source": [
        "### With Augumentation"
      ],
      "metadata": {
        "id": "j2R1NmmKVHVv"
      }
    },
    {
      "cell_type": "code",
      "source": [
        "resnet_model_aug = train_model_aug(model_rest, X_train, y_train, X_val, y_val)"
      ],
      "metadata": {
        "id": "IqGSAmDCpf8z"
      },
      "execution_count": null,
      "outputs": []
    },
    {
      "cell_type": "markdown",
      "source": [
        "# Preparing the test data set"
      ],
      "metadata": {
        "id": "IjgdKzZli3P-"
      }
    },
    {
      "cell_type": "code",
      "source": [
        "data_test = data_test.sample(frac=1)\n",
        "pixel_test = pre_proc(data_test)\n",
        "X_test=scaler.fit_transform(pixel_test)\n",
        "X_test= X_test.reshape((X_test.shape[0], 48, 48,1))"
      ],
      "metadata": {
        "id": "bCwt44Lk3Sqp"
      },
      "execution_count": 34,
      "outputs": []
    },
    {
      "cell_type": "markdown",
      "source": [
        "# Training model Summary"
      ],
      "metadata": {
        "id": "mFd9vFZ6z0xR"
      }
    },
    {
      "cell_type": "code",
      "source": [
        "models = [('base_model', base_model),('base_model_aug', base_model_aug),\n",
        "         ('ann_model', ann_model), ('ann_model_aug', ann_model_aug),\n",
        "          ('cnn_model', cnn_model), ('cnn_model_aug', cnn_model_aug),\n",
        "          ('resnet_model', resnet_model),('resnet_model_aug', resnet_model_aug)]\n",
        "          \n",
        "outputs = [model_baseline,model_baseline,model_ann,model_ann,\n",
        "           model_cnn,model_cnn,model_rest,model_rest]\n",
        "\n",
        "results = []\n",
        "for model_name, model in models:\n",
        "    val_acc = round(model.history['val_accuracy'][-1], 2)\n",
        "    model_idx = models.index((model_name, model))\n",
        "    x = np.round(outputs[model_idx].predict(X_val))\n",
        "    mean = round(np.mean(x),2)\n",
        "    std = round(np.std(x),2)\n",
        "    model_results = {'Model': model_name, 'Accuracy': val_acc, 'Mean': mean, 'STD': std}\n",
        "    results.append(model_results)\n",
        "\n",
        "df = pd.DataFrame(results, columns=['Model', 'Accuracy', 'Mean', 'STD'])\n",
        "print(df)"
      ],
      "metadata": {
        "colab": {
          "base_uri": "https://localhost:8080/"
        },
        "id": "yssv4a8ggeZ_",
        "outputId": "32af9325-670d-494a-92e2-4212180cd97e"
      },
      "execution_count": 35,
      "outputs": [
        {
          "output_type": "stream",
          "name": "stdout",
          "text": [
            "182/182 [==============================] - 0s 2ms/step\n",
            "182/182 [==============================] - 0s 2ms/step\n",
            "182/182 [==============================] - 0s 2ms/step\n",
            "182/182 [==============================] - 0s 2ms/step\n",
            "182/182 [==============================] - 1s 3ms/step\n",
            "182/182 [==============================] - 0s 3ms/step\n",
            "182/182 [==============================] - 2s 7ms/step\n",
            "182/182 [==============================] - 1s 8ms/step\n",
            "              Model  Accuracy  Mean   STD\n",
            "0        base_model      0.42  0.09  0.29\n",
            "1    base_model_aug      0.33  0.09  0.29\n",
            "2         ann_model      0.25  0.00  0.00\n",
            "3     ann_model_aug      0.25  0.00  0.00\n",
            "4         cnn_model      0.55  0.06  0.25\n",
            "5     cnn_model_aug      0.56  0.06  0.25\n",
            "6      resnet_model      0.50  0.11  0.31\n",
            "7  resnet_model_aug      0.63  0.11  0.31\n"
          ]
        }
      ]
    },
    {
      "cell_type": "markdown",
      "source": [
        "# Test Model Summary"
      ],
      "metadata": {
        "id": "KwwzaM06gfzp"
      }
    },
    {
      "cell_type": "code",
      "source": [
        "models = {'Base Model':[0.55,0.53],'CNN':[0.6,0.59],'RNN': [0.59,0.59]}\n",
        "\n",
        "results = []\n",
        "for model_name, model_scores in models.items():\n",
        "    private_score = model_scores[0]\n",
        "    public_score = model_scores[1]\n",
        "    model_results = {'Model': model_name, 'Private score': private_score,'Public score': public_score}\n",
        "    results.append(model_results)\n",
        "\n",
        "df = pd.DataFrame(results, columns=['Model', 'Private score','Public score'])\n",
        "print(df)"
      ],
      "metadata": {
        "colab": {
          "base_uri": "https://localhost:8080/"
        },
        "id": "2F5XJv9DXZRq",
        "outputId": "25fbe861-82e2-464a-ab50-41b8e1150b90"
      },
      "execution_count": 38,
      "outputs": [
        {
          "output_type": "stream",
          "name": "stdout",
          "text": [
            "        Model  Private score  Public score\n",
            "0  Base Model           0.55          0.53\n",
            "1         CNN           0.60          0.59\n",
            "2         RNN           0.59          0.59\n"
          ]
        }
      ]
    }
  ],
  "metadata": {
    "accelerator": "GPU",
    "colab": {
      "provenance": [],
      "machine_shape": "hm"
    },
    "gpuClass": "premium",
    "kernelspec": {
      "display_name": "Python 3 (ipykernel)",
      "language": "python",
      "name": "python3"
    },
    "language_info": {
      "codemirror_mode": {
        "name": "ipython",
        "version": 3
      },
      "file_extension": ".py",
      "mimetype": "text/x-python",
      "name": "python",
      "nbconvert_exporter": "python",
      "pygments_lexer": "ipython3",
      "version": "3.9.12"
    }
  },
  "nbformat": 4,
  "nbformat_minor": 0
}